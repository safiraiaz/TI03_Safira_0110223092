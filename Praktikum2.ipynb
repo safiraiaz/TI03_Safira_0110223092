{
  "nbformat": 4,
  "nbformat_minor": 0,
  "metadata": {
    "colab": {
      "provenance": []
    },
    "kernelspec": {
      "name": "python3",
      "display_name": "Python 3"
    },
    "language_info": {
      "name": "python"
    }
  },
  "cells": [
    {
      "cell_type": "code",
      "execution_count": 27,
      "metadata": {
        "colab": {
          "base_uri": "https://localhost:8080/",
          "height": 363
        },
        "id": "9ht20s8Kb44T",
        "outputId": "2e5099ab-70f3-4276-ccb7-43856affb86b"
      },
      "outputs": [
        {
          "output_type": "execute_result",
          "data": {
            "text/plain": [
              "  Nama;Tinggi Badan;Berat Badan;Keterangan\n",
              "0                       Adam;149;50;Normal\n",
              "1                    Fadilah;163;65;Normal\n",
              "2       Yukis;178;80;Kelebihan Berat Badan\n",
              "3                 Afdillah;130;60;Obesitas\n",
              "4        Medy;157;66;Kelebihan Berat Badan\n",
              "5                      Patma;172;59;Normal\n",
              "6                      Asman;133;40;Normal\n",
              "7                      Belva;169;70;Normal\n",
              "8        Anis;165;80;Kelebihan Berat Badan\n",
              "9                     Bela;140;70;Obesitas"
            ],
            "text/html": [
              "\n",
              "  <div id=\"df-8b94a3d8-fd77-4be1-8d05-241229e1e816\" class=\"colab-df-container\">\n",
              "    <div>\n",
              "<style scoped>\n",
              "    .dataframe tbody tr th:only-of-type {\n",
              "        vertical-align: middle;\n",
              "    }\n",
              "\n",
              "    .dataframe tbody tr th {\n",
              "        vertical-align: top;\n",
              "    }\n",
              "\n",
              "    .dataframe thead th {\n",
              "        text-align: right;\n",
              "    }\n",
              "</style>\n",
              "<table border=\"1\" class=\"dataframe\">\n",
              "  <thead>\n",
              "    <tr style=\"text-align: right;\">\n",
              "      <th></th>\n",
              "      <th>Nama;Tinggi Badan;Berat Badan;Keterangan</th>\n",
              "    </tr>\n",
              "  </thead>\n",
              "  <tbody>\n",
              "    <tr>\n",
              "      <th>0</th>\n",
              "      <td>Adam;149;50;Normal</td>\n",
              "    </tr>\n",
              "    <tr>\n",
              "      <th>1</th>\n",
              "      <td>Fadilah;163;65;Normal</td>\n",
              "    </tr>\n",
              "    <tr>\n",
              "      <th>2</th>\n",
              "      <td>Yukis;178;80;Kelebihan Berat Badan</td>\n",
              "    </tr>\n",
              "    <tr>\n",
              "      <th>3</th>\n",
              "      <td>Afdillah;130;60;Obesitas</td>\n",
              "    </tr>\n",
              "    <tr>\n",
              "      <th>4</th>\n",
              "      <td>Medy;157;66;Kelebihan Berat Badan</td>\n",
              "    </tr>\n",
              "    <tr>\n",
              "      <th>5</th>\n",
              "      <td>Patma;172;59;Normal</td>\n",
              "    </tr>\n",
              "    <tr>\n",
              "      <th>6</th>\n",
              "      <td>Asman;133;40;Normal</td>\n",
              "    </tr>\n",
              "    <tr>\n",
              "      <th>7</th>\n",
              "      <td>Belva;169;70;Normal</td>\n",
              "    </tr>\n",
              "    <tr>\n",
              "      <th>8</th>\n",
              "      <td>Anis;165;80;Kelebihan Berat Badan</td>\n",
              "    </tr>\n",
              "    <tr>\n",
              "      <th>9</th>\n",
              "      <td>Bela;140;70;Obesitas</td>\n",
              "    </tr>\n",
              "  </tbody>\n",
              "</table>\n",
              "</div>\n",
              "    <div class=\"colab-df-buttons\">\n",
              "\n",
              "  <div class=\"colab-df-container\">\n",
              "    <button class=\"colab-df-convert\" onclick=\"convertToInteractive('df-8b94a3d8-fd77-4be1-8d05-241229e1e816')\"\n",
              "            title=\"Convert this dataframe to an interactive table.\"\n",
              "            style=\"display:none;\">\n",
              "\n",
              "  <svg xmlns=\"http://www.w3.org/2000/svg\" height=\"24px\" viewBox=\"0 -960 960 960\">\n",
              "    <path d=\"M120-120v-720h720v720H120Zm60-500h600v-160H180v160Zm220 220h160v-160H400v160Zm0 220h160v-160H400v160ZM180-400h160v-160H180v160Zm440 0h160v-160H620v160ZM180-180h160v-160H180v160Zm440 0h160v-160H620v160Z\"/>\n",
              "  </svg>\n",
              "    </button>\n",
              "\n",
              "  <style>\n",
              "    .colab-df-container {\n",
              "      display:flex;\n",
              "      gap: 12px;\n",
              "    }\n",
              "\n",
              "    .colab-df-convert {\n",
              "      background-color: #E8F0FE;\n",
              "      border: none;\n",
              "      border-radius: 50%;\n",
              "      cursor: pointer;\n",
              "      display: none;\n",
              "      fill: #1967D2;\n",
              "      height: 32px;\n",
              "      padding: 0 0 0 0;\n",
              "      width: 32px;\n",
              "    }\n",
              "\n",
              "    .colab-df-convert:hover {\n",
              "      background-color: #E2EBFA;\n",
              "      box-shadow: 0px 1px 2px rgba(60, 64, 67, 0.3), 0px 1px 3px 1px rgba(60, 64, 67, 0.15);\n",
              "      fill: #174EA6;\n",
              "    }\n",
              "\n",
              "    .colab-df-buttons div {\n",
              "      margin-bottom: 4px;\n",
              "    }\n",
              "\n",
              "    [theme=dark] .colab-df-convert {\n",
              "      background-color: #3B4455;\n",
              "      fill: #D2E3FC;\n",
              "    }\n",
              "\n",
              "    [theme=dark] .colab-df-convert:hover {\n",
              "      background-color: #434B5C;\n",
              "      box-shadow: 0px 1px 3px 1px rgba(0, 0, 0, 0.15);\n",
              "      filter: drop-shadow(0px 1px 2px rgba(0, 0, 0, 0.3));\n",
              "      fill: #FFFFFF;\n",
              "    }\n",
              "  </style>\n",
              "\n",
              "    <script>\n",
              "      const buttonEl =\n",
              "        document.querySelector('#df-8b94a3d8-fd77-4be1-8d05-241229e1e816 button.colab-df-convert');\n",
              "      buttonEl.style.display =\n",
              "        google.colab.kernel.accessAllowed ? 'block' : 'none';\n",
              "\n",
              "      async function convertToInteractive(key) {\n",
              "        const element = document.querySelector('#df-8b94a3d8-fd77-4be1-8d05-241229e1e816');\n",
              "        const dataTable =\n",
              "          await google.colab.kernel.invokeFunction('convertToInteractive',\n",
              "                                                    [key], {});\n",
              "        if (!dataTable) return;\n",
              "\n",
              "        const docLinkHtml = 'Like what you see? Visit the ' +\n",
              "          '<a target=\"_blank\" href=https://colab.research.google.com/notebooks/data_table.ipynb>data table notebook</a>'\n",
              "          + ' to learn more about interactive tables.';\n",
              "        element.innerHTML = '';\n",
              "        dataTable['output_type'] = 'display_data';\n",
              "        await google.colab.output.renderOutput(dataTable, element);\n",
              "        const docLink = document.createElement('div');\n",
              "        docLink.innerHTML = docLinkHtml;\n",
              "        element.appendChild(docLink);\n",
              "      }\n",
              "    </script>\n",
              "  </div>\n",
              "\n",
              "\n",
              "<div id=\"df-421c935e-98e4-4f94-bb49-2e2145e4bb38\">\n",
              "  <button class=\"colab-df-quickchart\" onclick=\"quickchart('df-421c935e-98e4-4f94-bb49-2e2145e4bb38')\"\n",
              "            title=\"Suggest charts\"\n",
              "            style=\"display:none;\">\n",
              "\n",
              "<svg xmlns=\"http://www.w3.org/2000/svg\" height=\"24px\"viewBox=\"0 0 24 24\"\n",
              "     width=\"24px\">\n",
              "    <g>\n",
              "        <path d=\"M19 3H5c-1.1 0-2 .9-2 2v14c0 1.1.9 2 2 2h14c1.1 0 2-.9 2-2V5c0-1.1-.9-2-2-2zM9 17H7v-7h2v7zm4 0h-2V7h2v10zm4 0h-2v-4h2v4z\"/>\n",
              "    </g>\n",
              "</svg>\n",
              "  </button>\n",
              "\n",
              "<style>\n",
              "  .colab-df-quickchart {\n",
              "      --bg-color: #E8F0FE;\n",
              "      --fill-color: #1967D2;\n",
              "      --hover-bg-color: #E2EBFA;\n",
              "      --hover-fill-color: #174EA6;\n",
              "      --disabled-fill-color: #AAA;\n",
              "      --disabled-bg-color: #DDD;\n",
              "  }\n",
              "\n",
              "  [theme=dark] .colab-df-quickchart {\n",
              "      --bg-color: #3B4455;\n",
              "      --fill-color: #D2E3FC;\n",
              "      --hover-bg-color: #434B5C;\n",
              "      --hover-fill-color: #FFFFFF;\n",
              "      --disabled-bg-color: #3B4455;\n",
              "      --disabled-fill-color: #666;\n",
              "  }\n",
              "\n",
              "  .colab-df-quickchart {\n",
              "    background-color: var(--bg-color);\n",
              "    border: none;\n",
              "    border-radius: 50%;\n",
              "    cursor: pointer;\n",
              "    display: none;\n",
              "    fill: var(--fill-color);\n",
              "    height: 32px;\n",
              "    padding: 0;\n",
              "    width: 32px;\n",
              "  }\n",
              "\n",
              "  .colab-df-quickchart:hover {\n",
              "    background-color: var(--hover-bg-color);\n",
              "    box-shadow: 0 1px 2px rgba(60, 64, 67, 0.3), 0 1px 3px 1px rgba(60, 64, 67, 0.15);\n",
              "    fill: var(--button-hover-fill-color);\n",
              "  }\n",
              "\n",
              "  .colab-df-quickchart-complete:disabled,\n",
              "  .colab-df-quickchart-complete:disabled:hover {\n",
              "    background-color: var(--disabled-bg-color);\n",
              "    fill: var(--disabled-fill-color);\n",
              "    box-shadow: none;\n",
              "  }\n",
              "\n",
              "  .colab-df-spinner {\n",
              "    border: 2px solid var(--fill-color);\n",
              "    border-color: transparent;\n",
              "    border-bottom-color: var(--fill-color);\n",
              "    animation:\n",
              "      spin 1s steps(1) infinite;\n",
              "  }\n",
              "\n",
              "  @keyframes spin {\n",
              "    0% {\n",
              "      border-color: transparent;\n",
              "      border-bottom-color: var(--fill-color);\n",
              "      border-left-color: var(--fill-color);\n",
              "    }\n",
              "    20% {\n",
              "      border-color: transparent;\n",
              "      border-left-color: var(--fill-color);\n",
              "      border-top-color: var(--fill-color);\n",
              "    }\n",
              "    30% {\n",
              "      border-color: transparent;\n",
              "      border-left-color: var(--fill-color);\n",
              "      border-top-color: var(--fill-color);\n",
              "      border-right-color: var(--fill-color);\n",
              "    }\n",
              "    40% {\n",
              "      border-color: transparent;\n",
              "      border-right-color: var(--fill-color);\n",
              "      border-top-color: var(--fill-color);\n",
              "    }\n",
              "    60% {\n",
              "      border-color: transparent;\n",
              "      border-right-color: var(--fill-color);\n",
              "    }\n",
              "    80% {\n",
              "      border-color: transparent;\n",
              "      border-right-color: var(--fill-color);\n",
              "      border-bottom-color: var(--fill-color);\n",
              "    }\n",
              "    90% {\n",
              "      border-color: transparent;\n",
              "      border-bottom-color: var(--fill-color);\n",
              "    }\n",
              "  }\n",
              "</style>\n",
              "\n",
              "  <script>\n",
              "    async function quickchart(key) {\n",
              "      const quickchartButtonEl =\n",
              "        document.querySelector('#' + key + ' button');\n",
              "      quickchartButtonEl.disabled = true;  // To prevent multiple clicks.\n",
              "      quickchartButtonEl.classList.add('colab-df-spinner');\n",
              "      try {\n",
              "        const charts = await google.colab.kernel.invokeFunction(\n",
              "            'suggestCharts', [key], {});\n",
              "      } catch (error) {\n",
              "        console.error('Error during call to suggestCharts:', error);\n",
              "      }\n",
              "      quickchartButtonEl.classList.remove('colab-df-spinner');\n",
              "      quickchartButtonEl.classList.add('colab-df-quickchart-complete');\n",
              "    }\n",
              "    (() => {\n",
              "      let quickchartButtonEl =\n",
              "        document.querySelector('#df-421c935e-98e4-4f94-bb49-2e2145e4bb38 button');\n",
              "      quickchartButtonEl.style.display =\n",
              "        google.colab.kernel.accessAllowed ? 'block' : 'none';\n",
              "    })();\n",
              "  </script>\n",
              "</div>\n",
              "\n",
              "  <div id=\"id_f7c2078a-0ec8-4508-b40b-12187d7e91e4\">\n",
              "    <style>\n",
              "      .colab-df-generate {\n",
              "        background-color: #E8F0FE;\n",
              "        border: none;\n",
              "        border-radius: 50%;\n",
              "        cursor: pointer;\n",
              "        display: none;\n",
              "        fill: #1967D2;\n",
              "        height: 32px;\n",
              "        padding: 0 0 0 0;\n",
              "        width: 32px;\n",
              "      }\n",
              "\n",
              "      .colab-df-generate:hover {\n",
              "        background-color: #E2EBFA;\n",
              "        box-shadow: 0px 1px 2px rgba(60, 64, 67, 0.3), 0px 1px 3px 1px rgba(60, 64, 67, 0.15);\n",
              "        fill: #174EA6;\n",
              "      }\n",
              "\n",
              "      [theme=dark] .colab-df-generate {\n",
              "        background-color: #3B4455;\n",
              "        fill: #D2E3FC;\n",
              "      }\n",
              "\n",
              "      [theme=dark] .colab-df-generate:hover {\n",
              "        background-color: #434B5C;\n",
              "        box-shadow: 0px 1px 3px 1px rgba(0, 0, 0, 0.15);\n",
              "        filter: drop-shadow(0px 1px 2px rgba(0, 0, 0, 0.3));\n",
              "        fill: #FFFFFF;\n",
              "      }\n",
              "    </style>\n",
              "    <button class=\"colab-df-generate\" onclick=\"generateWithVariable('df')\"\n",
              "            title=\"Generate code using this dataframe.\"\n",
              "            style=\"display:none;\">\n",
              "\n",
              "  <svg xmlns=\"http://www.w3.org/2000/svg\" height=\"24px\"viewBox=\"0 0 24 24\"\n",
              "       width=\"24px\">\n",
              "    <path d=\"M7,19H8.4L18.45,9,17,7.55,7,17.6ZM5,21V16.75L18.45,3.32a2,2,0,0,1,2.83,0l1.4,1.43a1.91,1.91,0,0,1,.58,1.4,1.91,1.91,0,0,1-.58,1.4L9.25,21ZM18.45,9,17,7.55Zm-12,3A5.31,5.31,0,0,0,4.9,8.1,5.31,5.31,0,0,0,1,6.5,5.31,5.31,0,0,0,4.9,4.9,5.31,5.31,0,0,0,6.5,1,5.31,5.31,0,0,0,8.1,4.9,5.31,5.31,0,0,0,12,6.5,5.46,5.46,0,0,0,6.5,12Z\"/>\n",
              "  </svg>\n",
              "    </button>\n",
              "    <script>\n",
              "      (() => {\n",
              "      const buttonEl =\n",
              "        document.querySelector('#id_f7c2078a-0ec8-4508-b40b-12187d7e91e4 button.colab-df-generate');\n",
              "      buttonEl.style.display =\n",
              "        google.colab.kernel.accessAllowed ? 'block' : 'none';\n",
              "\n",
              "      buttonEl.onclick = () => {\n",
              "        google.colab.notebook.generateWithVariable('df');\n",
              "      }\n",
              "      })();\n",
              "    </script>\n",
              "  </div>\n",
              "\n",
              "    </div>\n",
              "  </div>\n"
            ],
            "application/vnd.google.colaboratory.intrinsic+json": {
              "type": "dataframe",
              "variable_name": "df",
              "summary": "{\n  \"name\": \"df\",\n  \"rows\": 10,\n  \"fields\": [\n    {\n      \"column\": \"Nama;Tinggi Badan;Berat Badan;Keterangan\",\n      \"properties\": {\n        \"dtype\": \"string\",\n        \"num_unique_values\": 10,\n        \"samples\": [\n          \"Anis;165;80;Kelebihan Berat Badan\",\n          \"Fadilah;163;65;Normal\",\n          \"Patma;172;59;Normal\"\n        ],\n        \"semantic_type\": \"\",\n        \"description\": \"\"\n      }\n    }\n  ]\n}"
            }
          },
          "metadata": {},
          "execution_count": 27
        }
      ],
      "source": [
        "import pandas as pd\n",
        "import numpy as np\n",
        "# Importing and Exporting Data\n",
        "df = pd.read_csv('/content/drive/MyDrive/DataMining/Training_ob.csv')\n",
        "df"
      ]
    },
    {
      "cell_type": "code",
      "source": [
        "# Data from the file\n",
        "data = {\n",
        "    'Nama': ['Adam', 'Fadilah', 'Yukis', 'Afdillah', 'Medy', 'Patma', 'Asman', 'Belva', 'Anis', 'Bela'],\n",
        "    'Tinggi Badan': [149, 163, 178, 130, 157, 172, 133, 169, 165, 140],\n",
        "    'Berat Badan': [50, 65, 80, 60, 66, 59, 40, 70, 80, 70]\n",
        "}"
      ],
      "metadata": {
        "id": "ypU4jXvacPrW"
      },
      "execution_count": 28,
      "outputs": []
    },
    {
      "cell_type": "code",
      "source": [
        "# Convert data into DataFrame\n",
        "df = pd.DataFrame(data)"
      ],
      "metadata": {
        "id": "DJx-DzHqcTZb"
      },
      "execution_count": 29,
      "outputs": []
    },
    {
      "cell_type": "code",
      "source": [
        "# Mean\n",
        "mean_tinggi = df['Tinggi Badan'].mean()\n",
        "df['Tinggi Badan'].mean()"
      ],
      "metadata": {
        "colab": {
          "base_uri": "https://localhost:8080/"
        },
        "id": "ZDSxg61GcWKm",
        "outputId": "5d5fb332-bd49-41f5-99cb-deb7b2ecd6ab"
      },
      "execution_count": 30,
      "outputs": [
        {
          "output_type": "execute_result",
          "data": {
            "text/plain": [
              "155.6"
            ]
          },
          "metadata": {},
          "execution_count": 30
        }
      ]
    },
    {
      "cell_type": "code",
      "source": [
        "# Median\n",
        "median_tinggi = df['Tinggi Badan'].median()\n",
        "df['Tinggi Badan'].median()"
      ],
      "metadata": {
        "colab": {
          "base_uri": "https://localhost:8080/"
        },
        "id": "Ukic5ylwcYRV",
        "outputId": "0a5deabb-da8d-454d-8c94-74320cebf482"
      },
      "execution_count": 31,
      "outputs": [
        {
          "output_type": "execute_result",
          "data": {
            "text/plain": [
              "160.0"
            ]
          },
          "metadata": {},
          "execution_count": 31
        }
      ]
    },
    {
      "cell_type": "code",
      "source": [
        "# Mode\n",
        "mode_tinggi = df['Tinggi Badan'].mode()[0]\n",
        "\n",
        "print(\"Mode Tinggi Badan:\", mode_tinggi)"
      ],
      "metadata": {
        "colab": {
          "base_uri": "https://localhost:8080/"
        },
        "id": "VSclaLcPca7W",
        "outputId": "6e5b175b-9c2c-4d2e-bb37-ecd447d2b4a5"
      },
      "execution_count": 32,
      "outputs": [
        {
          "output_type": "stream",
          "name": "stdout",
          "text": [
            "Mode Tinggi Badan: 130\n"
          ]
        }
      ]
    },
    {
      "cell_type": "code",
      "source": [
        "# Menghitung kuartil pertama (Q1)\n",
        "q1 = df['Tinggi Badan'].quantile(0.25)\n",
        "print(\"Q1 : \", q1)\n",
        "# Menghitung kuartil ketiga (Q3)\n",
        "q3 = df['Tinggi Badan'].quantile(0.75)\n",
        "print(\"Q3 : \", q3)\n",
        "iqr = q3 - q1\n",
        "print(\"IQR :\", iqr)"
      ],
      "metadata": {
        "colab": {
          "base_uri": "https://localhost:8080/"
        },
        "id": "ztL8a0H2cda5",
        "outputId": "5133b3bc-c4c3-416c-ed0a-79192202d8cf"
      },
      "execution_count": 33,
      "outputs": [
        {
          "output_type": "stream",
          "name": "stdout",
          "text": [
            "Q1 :  142.25\n",
            "Q3 :  168.0\n",
            "IQR : 25.75\n"
          ]
        }
      ]
    },
    {
      "cell_type": "code",
      "source": [
        "import matplotlib.pyplot as plt\n",
        "\n",
        "df.boxplot(column=['Tinggi Badan', 'Berat Badan'])\n",
        "plt.show()"
      ],
      "metadata": {
        "colab": {
          "base_uri": "https://localhost:8080/",
          "height": 430
        },
        "id": "Onp_yqV2cf5F",
        "outputId": "42cc3b15-1929-4333-8914-d85c1ba1434d"
      },
      "execution_count": 34,
      "outputs": [
        {
          "output_type": "display_data",
          "data": {
            "text/plain": [
              "<Figure size 640x480 with 1 Axes>"
            ],
            "image/png": "[encoded data removed]"
          },
          "metadata": {}
        }
      ]
    },
    {
      "cell_type": "code",
      "source": [
        "data = {\n",
        "    'Nama': ['Adam', 'Fadilah', 'Yukis', 'Afdillah', 'Medy', 'Patma', 'Asman', 'Belva', 'Anis', 'Bela'],\n",
        "    'Tinggi Badan': [149, 163, 178, 130, 157, 172, 133, 169, 165, 140],\n",
        "    'Berat Badan': [50, 65, 80, 60, 66, 59, 40, 70, 80, 70],\n",
        "    'Index': [2, 3, 4, 5, 3, 2, 2, 4, 5, 5]\n",
        "}\n",
        "\n",
        "# Membuat DataFrame dari data awal\n",
        "df = pd.DataFrame(data)\n",
        "\n",
        "# Data outlier yang akan ditambahkan\n",
        "outlier_data = {\n",
        "    'Nama': [\"Raka\", \"Siska\", \"Anggun\", \"Jaki\"],\n",
        "    'Tinggi Badan': [51, 155, 45, 160],  # Outlier height values\n",
        "    'Berat Badan': [33, 320, 30, 335],   # Outlier weight values\n",
        "    'Index': [2, 5, 2, 5]           # Index values\n",
        "}\n",
        "\n",
        "# Membuat DataFrame dari data outlier\n",
        "outlier_df = pd.DataFrame(outlier_data)\n",
        "\n",
        "# Menggabungkan data dengan data outlier\n",
        "df = pd.concat([df, outlier_df], ignore_index=True)\n",
        "\n",
        "# Menampilkan hasil akhir\n",
        "print(df)"
      ],
      "metadata": {
        "colab": {
          "base_uri": "https://localhost:8080/"
        },
        "id": "7RVjNf7YcieA",
        "outputId": "31bfcc4c-f67a-4023-b3ff-87b59542eb03"
      },
      "execution_count": 35,
      "outputs": [
        {
          "output_type": "stream",
          "name": "stdout",
          "text": [
            "        Nama  Tinggi Badan  Berat Badan  Index\n",
            "0       Adam           149           50      2\n",
            "1    Fadilah           163           65      3\n",
            "2      Yukis           178           80      4\n",
            "3   Afdillah           130           60      5\n",
            "4       Medy           157           66      3\n",
            "5      Patma           172           59      2\n",
            "6      Asman           133           40      2\n",
            "7      Belva           169           70      4\n",
            "8       Anis           165           80      5\n",
            "9       Bela           140           70      5\n",
            "10      Raka            51           33      2\n",
            "11     Siska           155          320      5\n",
            "12    Anggun            45           30      2\n",
            "13      Jaki           160          335      5\n"
          ]
        }
      ]
    },
    {
      "cell_type": "code",
      "source": [
        "import matplotlib.pyplot as plt\n",
        "\n",
        "# Membuat boxplot untuk kolom Height dan Weight\n",
        "df.boxplot(column=['Tinggi Badan', 'Berat Badan'])\n",
        "plt.title('Boxplot of Tinggi Badan and Berat Badan with Outliers')\n",
        "plt.show()"
      ],
      "metadata": {
        "colab": {
          "base_uri": "https://localhost:8080/",
          "height": 452
        },
        "id": "PEu8_dzodDiy",
        "outputId": "b9786ac5-2db0-4fd6-ef7f-237c663aaaaa"
      },
      "execution_count": 36,
      "outputs": [
        {
          "output_type": "display_data",
          "data": {
            "text/plain": [
              "<Figure size 640x480 with 1 Axes>"
            ],
            "image/png": "[encoded data removed]"
          },
          "metadata": {}
        }
      ]
    },
    {
      "cell_type": "code",
      "source": [
        "# Menghitung (Q1)\n",
        "q1 = df['Tinggi Badan'].quantile(0.25)\n",
        "print(\"Q1 : \", q1)\n",
        "\n",
        "# Menghitung (Q3)\n",
        "q3 = df['Tinggi Badan'].quantile(0.75)\n",
        "print(\"Q3 : \", q3)\n",
        "\n",
        "# Menghitung IQR\n",
        "iqr = q3 - q1\n",
        "print(\"IQR: \", iqr)\n",
        "\n",
        "# Menghitung batas bawah (Lower Bound) dan batas atas (Upper Bound)\n",
        "lower_bound = q1 - 1.5 * iqr\n",
        "upper_bound = q3 + 1.5 * iqr\n",
        "print(\"Lower Bound: \", lower_bound)\n",
        "print(\"Upper Bound: \", upper_bound)\n",
        "\n",
        "# Menemukan outlier dalam DataFrame\n",
        "outliers = df[(df['Tinggi Badan'] < lower_bound) | (df['Tinggi Badan'] > upper_bound)]\n",
        "\n",
        "print(\"Outlier Tinggi Badan:\")\n",
        "print(outliers)"
      ],
      "metadata": {
        "colab": {
          "base_uri": "https://localhost:8080/"
        },
        "id": "5C8Igy_weXCO",
        "outputId": "267c8b92-4ac3-4024-de86-4f30304922d0"
      },
      "execution_count": 37,
      "outputs": [
        {
          "output_type": "stream",
          "name": "stdout",
          "text": [
            "Q1 :  134.75\n",
            "Q3 :  164.5\n",
            "IQR:  29.75\n",
            "Lower Bound:  90.125\n",
            "Upper Bound:  209.125\n",
            "Outlier Tinggi Badan:\n",
            "      Nama  Tinggi Badan  Berat Badan  Index\n",
            "10    Raka            51           33      2\n",
            "12  Anggun            45           30      2\n"
          ]
        }
      ]
    },
    {
      "cell_type": "code",
      "source": [
        "data_height = df[\"Tinggi Badan\"]\n",
        "# Buat histogram\n",
        "n, bins, patches = plt.hist(data_height, bins=5, color='blue', edgecolor='black')\n",
        "\n",
        "# Tambahkan Label\n",
        "plt.title('Histogram Nilai')\n",
        "plt.xlabel('Height')\n",
        "plt.ylabel('Frekuensi')\n",
        "\n",
        "# Tampilkan rentang frekuensi di sumbu x\n",
        "bin_centers = 0.5 * (bins[:-1] + bins[1:])\n",
        "plt.xticks(bin_centers, ['{:.0f}-{:.0f} ' .format(bins[i], bins[i+1]) for i in range(len(bins)-1)])\n",
        "\n",
        "# Tampilkan histogram\n",
        "plt.show()"
      ],
      "metadata": {
        "colab": {
          "base_uri": "https://localhost:8080/",
          "height": 472
        },
        "id": "ShJzfSD8ebLy",
        "outputId": "da7231c7-b4c3-4fdd-d109-50352141583d"
      },
      "execution_count": 38,
      "outputs": [
        {
          "output_type": "display_data",
          "data": {
            "text/plain": [
              "<Figure size 640x480 with 1 Axes>"
            ],
            "image/png": "[encoded data removed]"
          },
          "metadata": {}
        }
      ]
    },
    {
      "cell_type": "code",
      "source": [
        "# Buat DataFrame\n",
        "data = {'Valuel': [2, 4, 6, 8, 10, 12, 14, 16, 18, 20],\n",
        "        'Value2': [20, 18, 16, 14, 12, 10, 8, 6, 4, 2]}\n",
        "\n",
        "df = pd.DataFrame(data)\n",
        "\n",
        "# Buat scatter plot\n",
        "plt.scatter(df['Valuel'], df['Value2'], color='blue', marker='+')\n",
        "\n",
        "# Tambahkan Label\n",
        "plt.title('Scatter Plot Korelasi Negatif')\n",
        "plt.xlabel('Value1')\n",
        "plt.ylabel('Value2')\n",
        "\n",
        "# Tampilkan plot\n",
        "plt.grid(True)\n",
        "plt.show()"
      ],
      "metadata": {
        "colab": {
          "base_uri": "https://localhost:8080/",
          "height": 472
        },
        "id": "QcN1p9rre5Mk",
        "outputId": "60c0a4b4-19de-44c0-cbe4-fd8ecf6e812b"
      },
      "execution_count": 39,
      "outputs": [
        {
          "output_type": "display_data",
          "data": {
            "text/plain": [
              "<Figure size 640x480 with 1 Axes>"
            ],
            "image/png": "[encoded data removed]"
          },
          "metadata": {}
        }
      ]
    }
  ]
}